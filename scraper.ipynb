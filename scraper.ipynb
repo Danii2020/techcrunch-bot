{
 "cells": [
  {
   "cell_type": "code",
   "execution_count": 30,
   "metadata": {},
   "outputs": [],
   "source": [
    "from bs4 import BeautifulSoup\n",
    "import pandas as pd\n",
    "import requests"
   ]
  },
  {
   "cell_type": "code",
   "execution_count": 2,
   "metadata": {},
   "outputs": [],
   "source": [
    "BASE_URL = 'https://www.techcrunch.com'\n",
    "HEADERS = {\n",
    "    'User-Agent': 'Mozilla/5.0 (Windows NT 10.0; Win64; x64) AppleWebKit/537.36 (KHTML, like Gecko) Chrome/58.0.3029.110 Safari/537.3'\n",
    "}"
   ]
  },
  {
   "cell_type": "code",
   "execution_count": 22,
   "metadata": {},
   "outputs": [
    {
     "name": "stdout",
     "output_type": "stream",
     "text": [
      "10\n"
     ]
    }
   ],
   "source": [
    "response = requests.get(BASE_URL, headers=HEADERS)\n",
    "soup = BeautifulSoup(response.text, 'html.parser')\n",
    "posts_headers = soup.find_all('h2', attrs={\"class\": \"wp-block-post-title\"})\n",
    "posts_links = [element.find('a')['href'] for element in posts_headers][:10]"
   ]
  },
  {
   "cell_type": "code",
   "execution_count": 37,
   "metadata": {},
   "outputs": [],
   "source": [
    "posts_list = []\n",
    "\n",
    "for link in posts_links:\n",
    "    post_response = requests.get(link, headers=HEADERS)\n",
    "    post_soup = BeautifulSoup(post_response.text, 'html.parser')\n",
    "    post_title = post_soup.find('h1', attrs={\"class\": \"wp-block-post-title\"}).text.strip()\n",
    "    post_content_container = post_soup.find('div', attrs={\"class\": \"wp-block-post-content\"})\n",
    "    post_paragraphs = post_content_container .find_all('p', attrs={\"class\": \"wp-block-paragraph\"})\n",
    "    post_content = ' '.join(paragraph.text for paragraph in post_paragraphs)\n",
    "    posts_list.append({\n",
    "        \"post_title\" : post_title,\n",
    "        \"post_content\": post_content\n",
    "    })"
   ]
  },
  {
   "cell_type": "code",
   "execution_count": 42,
   "metadata": {},
   "outputs": [],
   "source": [
    "posts_df = pd.DataFrame(posts_list)\n",
    "posts_df.to_csv('posts.csv', index=False)"
   ]
  }
 ],
 "metadata": {
  "kernelspec": {
   "display_name": "venv",
   "language": "python",
   "name": "python3"
  },
  "language_info": {
   "codemirror_mode": {
    "name": "ipython",
    "version": 3
   },
   "file_extension": ".py",
   "mimetype": "text/x-python",
   "name": "python",
   "nbconvert_exporter": "python",
   "pygments_lexer": "ipython3",
   "version": "3.10.11"
  }
 },
 "nbformat": 4,
 "nbformat_minor": 2
}
